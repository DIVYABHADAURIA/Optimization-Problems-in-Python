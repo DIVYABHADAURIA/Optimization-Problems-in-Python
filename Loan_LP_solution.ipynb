{
 "cells": [
  {
   "cell_type": "code",
   "execution_count": 54,
   "id": "single-caution",
   "metadata": {},
   "outputs": [],
   "source": [
    "import pulp as p\n",
    "my_lp_prob = p.LpProblem(\"loan_lp_problem\", p.LpMaximize)\n",
    "h = p.LpVariable('h',lowBound=0) #amount of new funds allocated for home loans\n",
    "pe = p.LpVariable('pe',lowBound=0 ) #amount of new funds allocated for personal loans\n",
    "a = p.LpVariable('a', lowBound=0 )  #amount of new funds allocated for automobile funds "
   ]
  },
  {
   "cell_type": "code",
   "execution_count": 63,
   "id": "initial-underground",
   "metadata": {},
   "outputs": [],
   "source": [
    "my_lp_prob += 0.07 * h + 0.12 * pe + 0.09 * a  #Objective function\n",
    "\n",
    "#constraints\n",
    "\n",
    "my_lp_prob += h + pe + a <= 1000000      #constraint on total amount of new funds available that must be used \n",
    "my_lp_prob += h <= 0.4 * ( h + pe + a)   #constraint about banks decision of at least 40% of new funds to be allocate to home loans\n",
    "my_lp_prob += pe <=0.6 * a               #amount allocated to personal loans cannot exceed 60% of the amount allocated to automobile loans\n",
    "\n"
   ]
  },
  {
   "cell_type": "code",
   "execution_count": 64,
   "id": "lesbian-dealer",
   "metadata": {},
   "outputs": [
    {
     "name": "stdout",
     "output_type": "stream",
     "text": [
      "loan_lp_problem:\n",
      "MAXIMIZE\n",
      "0.09*a + 0.07*h + 0.12*pe + 0.0\n",
      "SUBJECT TO\n",
      "_C1: a + h + pe <= 1000000\n",
      "\n",
      "_C2: - 0.4 a + 0.6 h - 0.4 pe <= 0\n",
      "\n",
      "_C3: - 0.6 a + pe <= 0\n",
      "\n",
      "_C4: a + h + pe <= 1000000\n",
      "\n",
      "_C5: - 0.4 a + 0.6 h - 0.4 pe <= 0\n",
      "\n",
      "_C6: - 0.6 a + pe <= 0\n",
      "\n",
      "_C7: a + h + pe <= 1000000\n",
      "\n",
      "_C8: - 0.4 a + 0.6 h - 0.4 pe <= 0\n",
      "\n",
      "_C9: - 0.6 a + pe <= 0\n",
      "\n",
      "VARIABLES\n",
      "a Continuous\n",
      "h Continuous\n",
      "pe Continuous\n",
      "\n"
     ]
    }
   ],
   "source": [
    "print(my_lp_prob)"
   ]
  },
  {
   "cell_type": "code",
   "execution_count": 60,
   "id": "global-howard",
   "metadata": {},
   "outputs": [
    {
     "name": "stdout",
     "output_type": "stream",
     "text": [
      "Optimal\n",
      "0.0 375000.0 625000.0 101250.0\n"
     ]
    }
   ],
   "source": [
    "status = my_lp_prob.solve() \n",
    "print(p.LpStatus[status])\n",
    "print(p.value(h), p.value(pe),p.value(a), p.value(my_lp_prob.objective)) "
   ]
  },
  {
   "cell_type": "code",
   "execution_count": null,
   "id": "registered-branch",
   "metadata": {},
   "outputs": [],
   "source": []
  }
 ],
 "metadata": {
  "kernelspec": {
   "display_name": "Python 3",
   "language": "python",
   "name": "python3"
  },
  "language_info": {
   "codemirror_mode": {
    "name": "ipython",
    "version": 3
   },
   "file_extension": ".py",
   "mimetype": "text/x-python",
   "name": "python",
   "nbconvert_exporter": "python",
   "pygments_lexer": "ipython3",
   "version": "3.8.7"
  }
 },
 "nbformat": 4,
 "nbformat_minor": 5
}
