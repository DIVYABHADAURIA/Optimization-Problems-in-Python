{
 "cells": [
  {
   "cell_type": "code",
   "execution_count": 9,
   "id": "authentic-crown",
   "metadata": {},
   "outputs": [],
   "source": [
    "import pulp as p "
   ]
  },
  {
   "cell_type": "code",
   "execution_count": 13,
   "id": "sharp-diameter",
   "metadata": {},
   "outputs": [],
   "source": [
    "Lp_prob = p.LpProblem('Problem', p.LpMinimize)\n",
    "x1 = p.LpVariable(\"x1\", lowBound = 0 , cat = 'Integer') \n",
    "x2 = p.LpVariable(\"x2\", lowBound = 0 , cat = 'Integer')\n",
    "x3 = p.LpVariable(\"x3\", lowBound = 0, cat = 'Integer')\n"
   ]
  },
  {
   "cell_type": "code",
   "execution_count": 14,
   "id": "christian-copper",
   "metadata": {},
   "outputs": [],
   "source": [
    "Lp_prob += 2 * x1 + 1 * x2 + 3 * x3  "
   ]
  },
  {
   "cell_type": "code",
   "execution_count": 16,
   "id": "maritime-yugoslavia",
   "metadata": {},
   "outputs": [],
   "source": [
    "Lp_prob += 2 * x1 + x2 + x3 >=100\n",
    "Lp_prob += x1 + 3 * x2 + 2 * x3 >=50\n",
    "Lp_prob += 2 * x3 + 4 * x2 + 6 * x3 >= 25\n",
    "Lp_prob +=  x1 >= 2 *( x2 + x3)\n",
    "Lp_prob +=  3 * x3 <= x2\n"
   ]
  },
  {
   "cell_type": "code",
   "execution_count": 18,
   "id": "alone-deficit",
   "metadata": {},
   "outputs": [
    {
     "name": "stdout",
     "output_type": "stream",
     "text": [
      "Problem:\n",
      "MINIMIZE\n",
      "2*x1 + 1*x2 + 3*x3 + 0\n",
      "SUBJECT TO\n",
      "_C1: 2 x1 + x2 + x3 >= 100\n",
      "\n",
      "_C2: x1 + 3 x2 + 2 x3 >= 50\n",
      "\n",
      "_C3: 4 x2 + 8 x3 >= 25\n",
      "\n",
      "_C4: x1 - 2 x2 - 2 x3 >= 0\n",
      "\n",
      "_C5: - x2 + 3 x3 <= 0\n",
      "\n",
      "_C6: 2 x1 + x2 + x3 >= 100\n",
      "\n",
      "_C7: x1 + 3 x2 + 2 x3 >= 50\n",
      "\n",
      "_C8: 4 x2 + 8 x3 >= 25\n",
      "\n",
      "_C9: x1 - 2 x2 - 2 x3 >= 0\n",
      "\n",
      "_C10: - x2 + 3 x3 <= 0\n",
      "\n",
      "VARIABLES\n",
      "0 <= x1 Integer\n",
      "0 <= x2 Integer\n",
      "0 <= x3 Integer\n",
      "\n"
     ]
    }
   ],
   "source": [
    "print(Lp_prob) "
   ]
  },
  {
   "cell_type": "code",
   "execution_count": 19,
   "id": "ceramic-academy",
   "metadata": {},
   "outputs": [
    {
     "name": "stdout",
     "output_type": "stream",
     "text": [
      "Optimal\n",
      "46.0 8.0 0.0 100.0\n"
     ]
    }
   ],
   "source": [
    "status = Lp_prob.solve() \n",
    "print(p.LpStatus[status])\n",
    "print(p.value(x1), p.value(x2),p.value(x3), p.value(Lp_prob.objective)) "
   ]
  }
 ],
 "metadata": {
  "kernelspec": {
   "display_name": "Python 3",
   "language": "python",
   "name": "python3"
  },
  "language_info": {
   "codemirror_mode": {
    "name": "ipython",
    "version": 3
   },
   "file_extension": ".py",
   "mimetype": "text/x-python",
   "name": "python",
   "nbconvert_exporter": "python",
   "pygments_lexer": "ipython3",
   "version": "3.8.7"
  }
 },
 "nbformat": 4,
 "nbformat_minor": 5
}
